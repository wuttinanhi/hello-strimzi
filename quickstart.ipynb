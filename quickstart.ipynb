{
 "cells": [
  {
   "cell_type": "markdown",
   "metadata": {},
   "source": [
    "# Strimzi getting started\n",
    "\n",
    "from https://strimzi.io/quickstarts/"
   ]
  },
  {
   "cell_type": "code",
   "execution_count": null,
   "metadata": {},
   "outputs": [],
   "source": [
    "# Validate minikube\n",
    "!minikube version\n",
    "\n",
    "# Validate kubectl\n",
    "!kubectl version"
   ]
  },
  {
   "cell_type": "code",
   "execution_count": 5,
   "metadata": {},
   "outputs": [
    {
     "name": "stdout",
     "output_type": "stream",
     "text": [
      "namespace/kafka created\n"
     ]
    }
   ],
   "source": [
    "# create a namespace\n",
    "\n",
    "!kubectl create namespace kafka"
   ]
  },
  {
   "cell_type": "code",
   "execution_count": 6,
   "metadata": {},
   "outputs": [
    {
     "name": "stdout",
     "output_type": "stream",
     "text": [
      "rolebinding.rbac.authorization.k8s.io/strimzi-cluster-operator created\n",
      "configmap/strimzi-cluster-operator created\n",
      "clusterrole.rbac.authorization.k8s.io/strimzi-kafka-broker created\n",
      "customresourcedefinition.apiextensions.k8s.io/kafkaconnects.kafka.strimzi.io created\n",
      "clusterrole.rbac.authorization.k8s.io/strimzi-entity-operator created\n",
      "customresourcedefinition.apiextensions.k8s.io/kafkatopics.kafka.strimzi.io created\n",
      "clusterrole.rbac.authorization.k8s.io/strimzi-cluster-operator-leader-election created\n",
      "customresourcedefinition.apiextensions.k8s.io/kafkamirrormaker2s.kafka.strimzi.io created\n",
      "rolebinding.rbac.authorization.k8s.io/strimzi-cluster-operator-entity-operator-delegation created\n",
      "clusterrole.rbac.authorization.k8s.io/strimzi-cluster-operator-global created\n",
      "customresourcedefinition.apiextensions.k8s.io/kafkabridges.kafka.strimzi.io created\n",
      "serviceaccount/strimzi-cluster-operator created\n",
      "clusterrolebinding.rbac.authorization.k8s.io/strimzi-cluster-operator created\n",
      "clusterrole.rbac.authorization.k8s.io/strimzi-kafka-client created\n",
      "customresourcedefinition.apiextensions.k8s.io/kafkausers.kafka.strimzi.io created\n",
      "clusterrolebinding.rbac.authorization.k8s.io/strimzi-cluster-operator-kafka-broker-delegation created\n",
      "customresourcedefinition.apiextensions.k8s.io/kafkaconnectors.kafka.strimzi.io created\n",
      "clusterrole.rbac.authorization.k8s.io/strimzi-cluster-operator-watched created\n",
      "customresourcedefinition.apiextensions.k8s.io/kafkas.kafka.strimzi.io created\n",
      "rolebinding.rbac.authorization.k8s.io/strimzi-cluster-operator-watched created\n",
      "customresourcedefinition.apiextensions.k8s.io/kafkarebalances.kafka.strimzi.io created\n",
      "rolebinding.rbac.authorization.k8s.io/strimzi-cluster-operator-leader-election created\n",
      "clusterrole.rbac.authorization.k8s.io/strimzi-cluster-operator-namespaced created\n",
      "customresourcedefinition.apiextensions.k8s.io/kafkamirrormakers.kafka.strimzi.io created\n",
      "customresourcedefinition.apiextensions.k8s.io/kafkanodepools.kafka.strimzi.io created\n",
      "customresourcedefinition.apiextensions.k8s.io/strimzipodsets.core.strimzi.io created\n",
      "clusterrolebinding.rbac.authorization.k8s.io/strimzi-cluster-operator-kafka-client-delegation created\n",
      "deployment.apps/strimzi-cluster-operator created\n"
     ]
    }
   ],
   "source": [
    "# apply kubectl create -f 'https://strimzi.io/install/latest?namespace=kafka' -n kafka\n",
    "\n",
    "!kubectl apply -f 'https://strimzi.io/install/latest?namespace=kafka' -n kafka"
   ]
  },
  {
   "cell_type": "code",
   "execution_count": 22,
   "metadata": {},
   "outputs": [
    {
     "name": "stdout",
     "output_type": "stream",
     "text": [
      "NAME                                        READY   STATUS    RESTARTS   AGE\n",
      "strimzi-cluster-operator-5d6f48c6f9-wsrkx   1/1     Running   0          16m\n"
     ]
    }
   ],
   "source": [
    "# wait for strimzi pods to be ready\n",
    "\n",
    "!kubectl get pod -n kafka # --watch"
   ]
  },
  {
   "cell_type": "code",
   "execution_count": null,
   "metadata": {},
   "outputs": [],
   "source": [
    "# You can also follow the operator’s log:\n",
    "\n",
    "!kubectl logs deployment/strimzi-cluster-operator -n kafka -f"
   ]
  },
  {
   "cell_type": "code",
   "execution_count": 20,
   "metadata": {},
   "outputs": [
    {
     "name": "stdout",
     "output_type": "stream",
     "text": [
      "kafka.kafka.strimzi.io/my-cluster condition met\n"
     ]
    }
   ],
   "source": [
    "# Wait while Kubernetes starts the required pods, services, and so on:\n",
    "\n",
    "!kubectl wait kafka/my-cluster --for=condition=Ready --timeout=300s -n kafka "
   ]
  },
  {
   "cell_type": "code",
   "execution_count": 14,
   "metadata": {},
   "outputs": [
    {
     "name": "stdout",
     "output_type": "stream",
     "text": [
      "kafka.kafka.strimzi.io/my-cluster created\n"
     ]
    }
   ],
   "source": [
    "# Apply the `Kafka` Cluster CR file\n",
    "\n",
    "!kubectl apply -f https://strimzi.io/examples/latest/kafka/kafka-persistent-single.yaml -n kafka "
   ]
  },
  {
   "cell_type": "code",
   "execution_count": null,
   "metadata": {},
   "outputs": [],
   "source": [
    "# start a producer\n",
    "\n",
    "!kubectl -n kafka run kafka-producer -ti --image=quay.io/strimzi/kafka:0.38.0-kafka-3.6.0 --rm=true --restart=Never -- bin/kafka-console-producer.sh --bootstrap-server my-cluster-kafka-bootstrap:9092 --topic my-topic"
   ]
  },
  {
   "cell_type": "code",
   "execution_count": null,
   "metadata": {},
   "outputs": [],
   "source": [
    "# start a consumer\n",
    "\n",
    "!kubectl -n kafka run kafka-consumer -ti --image=quay.io/strimzi/kafka:0.38.0-kafka-3.6.0 --rm=true --restart=Never -- bin/kafka-console-consumer.sh --bootstrap-server my-cluster-kafka-bootstrap:9092 --topic my-topic --from-beginning"
   ]
  },
  {
   "cell_type": "code",
   "execution_count": 2,
   "metadata": {},
   "outputs": [
    {
     "name": "stdout",
     "output_type": "stream",
     "text": [
      "strimzipodset.core.strimzi.io \"my-cluster-kafka\" deleted\n",
      "strimzipodset.core.strimzi.io \"my-cluster-zookeeper\" deleted\n",
      "kafka.kafka.strimzi.io \"my-cluster\" deleted\n",
      "kafkatopic.kafka.strimzi.io \"consumer-offsets---84e7a678d08f4bd226872e5cdd4eb527fadc1c6a\" deleted\n",
      "kafkatopic.kafka.strimzi.io \"my-topic\" deleted\n",
      "kafkatopic.kafka.strimzi.io \"strimzi-store-topic---effb8e3e057afce1ecf67c3f5d8e4e3ff177fc55\" deleted\n",
      "kafkatopic.kafka.strimzi.io \"strimzi-topic-operator-kstreams-topic-store-changelog---b75e702040b99be8a9263134de3507fc0cc4017b\" deleted\n"
     ]
    }
   ],
   "source": [
    "# delete cluster\n",
    "\n",
    "!kubectl -n kafka delete $(kubectl get strimzi -o name -n kafka)"
   ]
  },
  {
   "cell_type": "code",
   "execution_count": null,
   "metadata": {},
   "outputs": [],
   "source": [
    "# Deleting the Strimzi cluster operator\n",
    "# When you want to fully remove the Strimzi cluster operator and associated definitions, you can run:\n",
    "\n",
    "kubectl -n kafka delete -f 'https://strimzi.io/install/latest?namespace=kafka'"
   ]
  }
 ],
 "metadata": {
  "kernelspec": {
   "display_name": "Python 3",
   "language": "python",
   "name": "python3"
  },
  "language_info": {
   "codemirror_mode": {
    "name": "ipython",
    "version": 3
   },
   "file_extension": ".py",
   "mimetype": "text/x-python",
   "name": "python",
   "nbconvert_exporter": "python",
   "pygments_lexer": "ipython3",
   "version": "3.10.12"
  }
 },
 "nbformat": 4,
 "nbformat_minor": 2
}
